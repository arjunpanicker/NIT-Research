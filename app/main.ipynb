{
 "metadata": {
  "language_info": {
   "codemirror_mode": {
    "name": "ipython",
    "version": 3
   },
   "file_extension": ".py",
   "mimetype": "text/x-python",
   "name": "python",
   "nbconvert_exporter": "python",
   "pygments_lexer": "ipython3",
   "version": "3.6.12-final"
  },
  "orig_nbformat": 2,
  "kernelspec": {
   "name": "python3",
   "display_name": "Python 3",
   "language": "python"
  }
 },
 "nbformat": 4,
 "nbformat_minor": 2,
 "cells": [
  {
   "source": [
    "# Import the required libraries and files"
   ],
   "cell_type": "markdown",
   "metadata": {}
  },
  {
   "cell_type": "code",
   "execution_count": 11,
   "metadata": {},
   "outputs": [],
   "source": [
    "import pandas as pd\n",
    "import numpy as np\n",
    "import fasttext\n",
    "import re\n",
    "import os\n",
    "\n",
    "import hats.utility as ut\n",
    "from hats.data_preprocessing import Preprocessing\n",
    "from hats.ml_model import Model\n",
    "from hats.config import CONFIG\n",
    "\n",
    "%reload_ext autoreload\n",
    "%autoreload 2\n"
   ]
  },
  {
   "cell_type": "code",
   "execution_count": 30,
   "metadata": {},
   "outputs": [],
   "source": [
    "home_data = pd.read_csv('../dataset/dataset.csv', sep=';')\n",
    "translate_data = pd.read_csv('../dataset/translations_data.csv', sep=';')\n",
    "sms_translations_data = pd.read_csv('../dataset/sms_translations.csv', sep=';')\n",
    "\n",
    "stop_words = []\n",
    "with open('../dataset/stop_words.txt') as f:\n",
    "  stop_words = f.readlines()\n",
    "  stop_words = [word.replace('\\n', '') for word in stop_words]"
   ]
  },
  {
   "source": [
    "# Model Training "
   ],
   "cell_type": "markdown",
   "metadata": {}
  },
  {
   "cell_type": "code",
   "execution_count": 28,
   "metadata": {},
   "outputs": [
    {
     "output_type": "stream",
     "name": "stdout",
     "text": [
      "Empty DataFrame\nColumns: []\nIndex: []\nEmpty DataFrame\nColumns: []\nIndex: []\nEmpty DataFrame\nColumns: []\nIndex: []\nEmpty DataFrame\nColumns: []\nIndex: []\nEmpty DataFrame\nColumns: []\nIndex: []\nEmpty DataFrame\nColumns: []\nIndex: []\nEmpty DataFrame\nColumns: []\nIndex: []\nEmpty DataFrame\nColumns: []\nIndex: []\nEmpty DataFrame\nColumns: []\nIndex: []\nEmpty DataFrame\nColumns: []\nIndex: []\nEmpty DataFrame\nColumns: []\nIndex: []\nEmpty DataFrame\nColumns: []\nIndex: []\nEmpty DataFrame\nColumns: []\nIndex: []\nEmpty DataFrame\nColumns: []\nIndex: []\nEmpty DataFrame\nColumns: []\nIndex: []\nEmpty DataFrame\nColumns: []\nIndex: []\nEmpty DataFrame\nColumns: []\nIndex: []\nEmpty DataFrame\nColumns: []\nIndex: []\nEmpty DataFrame\nColumns: []\nIndex: []\nEmpty DataFrame\nColumns: []\nIndex: []\nEmpty DataFrame\nColumns: []\nIndex: []\nEmpty DataFrame\nColumns: []\nIndex: []\nEmpty DataFrame\nColumns: []\nIndex: []\nEmpty DataFrame\nColumns: []\nIndex: []\nEmpty DataFrame\nColumns: []\nIndex: []\nEmpty DataFrame\nColumns: []\nIndex: []\nEmpty DataFrame\nColumns: []\nIndex: []\nEmpty DataFrame\nColumns: []\nIndex: []\nEmpty DataFrame\nColumns: []\nIndex: []\nEmpty DataFrame\nColumns: []\nIndex: []\nEmpty DataFrame\nColumns: []\nIndex: []\nEmpty DataFrame\nColumns: []\nIndex: []\nEmpty DataFrame\nColumns: []\nIndex: []\nEmpty DataFrame\nColumns: []\nIndex: []\nEmpty DataFrame\nColumns: []\nIndex: []\nEmpty DataFrame\nColumns: []\nIndex: []\nEmpty DataFrame\nColumns: []\nIndex: []\nEmpty DataFrame\nColumns: []\nIndex: []\nEmpty DataFrame\nColumns: []\nIndex: []\nEmpty DataFrame\nColumns: []\nIndex: []\nEmpty DataFrame\nColumns: []\nIndex: []\nEmpty DataFrame\nColumns: []\nIndex: []\nEmpty DataFrame\nColumns: []\nIndex: []\nEmpty DataFrame\nColumns: []\nIndex: []\nEmpty DataFrame\nColumns: []\nIndex: []\nEmpty DataFrame\nColumns: []\nIndex: []\nEmpty DataFrame\nColumns: []\nIndex: []\nEmpty DataFrame\nColumns: []\nIndex: []\nEmpty DataFrame\nColumns: []\nIndex: []\nEmpty DataFrame\nColumns: []\nIndex: []\nEmpty DataFrame\nColumns: []\nIndex: []\nEmpty DataFrame\nColumns: []\nIndex: []\nEmpty DataFrame\nColumns: []\nIndex: []\nEmpty DataFrame\nColumns: []\nIndex: []\nEmpty DataFrame\nColumns: []\nIndex: []\nEmpty DataFrame\nColumns: []\nIndex: []\nEmpty DataFrame\nColumns: []\nIndex: []\nEmpty DataFrame\nColumns: []\nIndex: []\nEmpty DataFrame\nColumns: []\nIndex: []\nEmpty DataFrame\nColumns: []\nIndex: []\nEmpty DataFrame\nColumns: []\nIndex: []\nEmpty DataFrame\nColumns: []\nIndex: []\nEmpty DataFrame\nColumns: []\nIndex: []\nEmpty DataFrame\nColumns: []\nIndex: []\nEmpty DataFrame\nColumns: []\nIndex: []\nEmpty DataFrame\nColumns: []\nIndex: []\nEmpty DataFrame\nColumns: []\nIndex: []\nEmpty DataFrame\nColumns: []\nIndex: []\nEmpty DataFrame\nColumns: []\nIndex: []\nEmpty DataFrame\nColumns: []\nIndex: []\nEmpty DataFrame\nColumns: []\nIndex: []\nEmpty DataFrame\nColumns: []\nIndex: []\nEmpty DataFrame\nColumns: []\nIndex: []\nEmpty DataFrame\nColumns: []\nIndex: []\nEmpty DataFrame\nColumns: []\nIndex: []\nEmpty DataFrame\nColumns: []\nIndex: []\nEmpty DataFrame\nColumns: []\nIndex: []\nEmpty DataFrame\nColumns: []\nIndex: []\nEmpty DataFrame\nColumns: []\nIndex: []\nEmpty DataFrame\nColumns: []\nIndex: []\nEmpty DataFrame\nColumns: []\nIndex: []\nEmpty DataFrame\nColumns: []\nIndex: []\nEmpty DataFrame\nColumns: []\nIndex: []\nEmpty DataFrame\nColumns: []\nIndex: []\nEmpty DataFrame\nColumns: []\nIndex: []\nEmpty DataFrame\nColumns: []\nIndex: []\nEmpty DataFrame\nColumns: []\nIndex: []\nEmpty DataFrame\nColumns: []\nIndex: []\nEmpty DataFrame\nColumns: []\nIndex: []\nEmpty DataFrame\nColumns: []\nIndex: []\nEmpty DataFrame\nColumns: []\nIndex: []\nEmpty DataFrame\nColumns: []\nIndex: []\nEmpty DataFrame\nColumns: []\nIndex: []\nEmpty DataFrame\nColumns: []\nIndex: []\nEmpty DataFrame\nColumns: []\nIndex: []\nEmpty DataFrame\nColumns: []\nIndex: []\nEmpty DataFrame\nColumns: []\nIndex: []\nEmpty DataFrame\nColumns: []\nIndex: []\nEmpty DataFrame\nColumns: []\nIndex: []\nEmpty DataFrame\nColumns: []\nIndex: []\nEmpty DataFrame\nColumns: []\nIndex: []\nEmpty DataFrame\nColumns: []\nIndex: []\nEmpty DataFrame\nColumns: []\nIndex: []\nEmpty DataFrame\nColumns: []\nIndex: []\nEmpty DataFrame\nColumns: []\nIndex: []\nEmpty DataFrame\nColumns: []\nIndex: []\nEmpty DataFrame\nColumns: []\nIndex: []\nEmpty DataFrame\nColumns: []\nIndex: []\nEmpty DataFrame\nColumns: []\nIndex: []\nEmpty DataFrame\nColumns: []\nIndex: []\nEmpty DataFrame\nColumns: []\nIndex: []\nEmpty DataFrame\nColumns: []\nIndex: []\nEmpty DataFrame\nColumns: []\nIndex: []\nEmpty DataFrame\nColumns: []\nIndex: []\nEmpty DataFrame\nColumns: []\nIndex: []\nEmpty DataFrame\nColumns: []\nIndex: []\nEmpty DataFrame\nColumns: []\nIndex: []\nEmpty DataFrame\nColumns: []\nIndex: []\nEmpty DataFrame\nColumns: []\nIndex: []\nEmpty DataFrame\nColumns: []\nIndex: []\nEmpty DataFrame\nColumns: []\nIndex: []\nEmpty DataFrame\nColumns: []\nIndex: []\nEmpty DataFrame\nColumns: []\nIndex: []\nEmpty DataFrame\nColumns: []\nIndex: []\nEmpty DataFrame\nColumns: []\nIndex: []\nEmpty DataFrame\nColumns: []\nIndex: []\nEmpty DataFrame\nColumns: []\nIndex: []\nEmpty DataFrame\nColumns: []\nIndex: []\nEmpty DataFrame\nColumns: []\nIndex: []\nEmpty DataFrame\nColumns: []\nIndex: []\nEmpty DataFrame\nColumns: []\nIndex: []\nEmpty DataFrame\nColumns: []\nIndex: []\nEmpty DataFrame\nColumns: []\nIndex: []\nEmpty DataFrame\nColumns: []\nIndex: []\nEmpty DataFrame\nColumns: []\nIndex: []\nEmpty DataFrame\nColumns: []\nIndex: []\nEmpty DataFrame\nColumns: []\nIndex: []\nEmpty DataFrame\nColumns: []\nIndex: []\nEmpty DataFrame\nColumns: []\nIndex: []\nEmpty DataFrame\nColumns: []\nIndex: []\nEmpty DataFrame\nColumns: []\nIndex: []\nEmpty DataFrame\nColumns: []\nIndex: []\nEmpty DataFrame\nColumns: []\nIndex: []\nEmpty DataFrame\nColumns: []\nIndex: []\nEmpty DataFrame\nColumns: []\nIndex: []\nEmpty DataFrame\nColumns: []\nIndex: []\nEmpty DataFrame\nColumns: []\nIndex: []\nEmpty DataFrame\nColumns: []\nIndex: []\nEmpty DataFrame\nColumns: []\nIndex: []\nEmpty DataFrame\nColumns: []\nIndex: []\nEmpty DataFrame\nColumns: []\nIndex: []\nEmpty DataFrame\nColumns: []\nIndex: []\nEmpty DataFrame\nColumns: []\nIndex: []\nEmpty DataFrame\nColumns: []\nIndex: []\nEmpty DataFrame\nColumns: []\nIndex: []\nEmpty DataFrame\nColumns: []\nIndex: []\nEmpty DataFrame\nColumns: []\nIndex: []\nEmpty DataFrame\nColumns: []\nIndex: []\nEmpty DataFrame\nColumns: []\nIndex: []\nEmpty DataFrame\nColumns: []\nIndex: []\nEmpty DataFrame\nColumns: []\nIndex: []\nEmpty DataFrame\nColumns: []\nIndex: []\nEmpty DataFrame\nColumns: []\nIndex: []\nEmpty DataFrame\nColumns: []\nIndex: []\nEmpty DataFrame\nColumns: []\nIndex: []\nEmpty DataFrame\nColumns: []\nIndex: []\nEmpty DataFrame\nColumns: []\nIndex: []\nEmpty DataFrame\nColumns: []\nIndex: []\nEmpty DataFrame\nColumns: []\nIndex: []\nEmpty DataFrame\nColumns: []\nIndex: []\nEmpty DataFrame\nColumns: []\nIndex: []\nEmpty DataFrame\nColumns: []\nIndex: []\nEmpty DataFrame\nColumns: []\nIndex: []\nEmpty DataFrame\nColumns: []\nIndex: []\nEmpty DataFrame\nColumns: []\nIndex: []\nEmpty DataFrame\nColumns: []\nIndex: []\nEmpty DataFrame\nColumns: []\nIndex: []\nEmpty DataFrame\nColumns: []\nIndex: []\nEmpty DataFrame\nColumns: []\nIndex: []\nEmpty DataFrame\nColumns: []\nIndex: []\nEmpty DataFrame\nColumns: []\nIndex: []\nEmpty DataFrame\nColumns: []\nIndex: []\nEmpty DataFrame\nColumns: []\nIndex: []\nEmpty DataFrame\nColumns: []\nIndex: []\nEmpty DataFrame\nColumns: []\nIndex: []\nEmpty DataFrame\nColumns: []\nIndex: []\nEmpty DataFrame\nColumns: []\nIndex: []\nEmpty DataFrame\nColumns: []\nIndex: []\nEmpty DataFrame\nColumns: []\nIndex: []\nEmpty DataFrame\nColumns: []\nIndex: []\nEmpty DataFrame\nColumns: []\nIndex: []\nEmpty DataFrame\nColumns: []\nIndex: []\nEmpty DataFrame\nColumns: []\nIndex: []\nEmpty DataFrame\nColumns: []\nIndex: []\nEmpty DataFrame\nColumns: []\nIndex: []\nEmpty DataFrame\nColumns: []\nIndex: []\nEmpty DataFrame\nColumns: []\nIndex: []\nEmpty DataFrame\nColumns: []\nIndex: []\nEmpty DataFrame\nColumns: []\nIndex: []\nEmpty DataFrame\nColumns: []\nIndex: []\nEmpty DataFrame\nColumns: []\nIndex: []\nEmpty DataFrame\nColumns: []\nIndex: []\nEmpty DataFrame\nColumns: []\nIndex: []\nEmpty DataFrame\nColumns: []\nIndex: []\nEmpty DataFrame\nColumns: []\nIndex: []\nEmpty DataFrame\nColumns: []\nIndex: []\nEmpty DataFrame\nColumns: []\nIndex: []\nEmpty DataFrame\nColumns: []\nIndex: []\nEmpty DataFrame\nColumns: []\nIndex: []\nEmpty DataFrame\nColumns: []\nIndex: []\nEmpty DataFrame\nColumns: []\nIndex: []\nEmpty DataFrame\nColumns: []\nIndex: []\nEmpty DataFrame\nColumns: []\nIndex: []\nEmpty DataFrame\nColumns: []\nIndex: []\nEmpty DataFrame\nColumns: []\nIndex: []\nEmpty DataFrame\nColumns: []\nIndex: []\nEmpty DataFrame\nColumns: []\nIndex: []\nEmpty DataFrame\nColumns: []\nIndex: []\nEmpty DataFrame\nColumns: []\nIndex: []\nEmpty DataFrame\nColumns: []\nIndex: []\nEmpty DataFrame\nColumns: []\nIndex: []\nEmpty DataFrame\nColumns: []\nIndex: []\nEmpty DataFrame\nColumns: []\nIndex: []\nEmpty DataFrame\nColumns: []\nIndex: []\nEmpty DataFrame\nColumns: []\nIndex: []\nEmpty DataFrame\nColumns: []\nIndex: []\nEmpty DataFrame\nColumns: []\nIndex: []\nEmpty DataFrame\nColumns: []\nIndex: []\nEmpty DataFrame\nColumns: []\nIndex: []\nEmpty DataFrame\nColumns: []\nIndex: []\nEmpty DataFrame\nColumns: []\nIndex: []\nEmpty DataFrame\nColumns: []\nIndex: []\nEmpty DataFrame\nColumns: []\nIndex: []\nEmpty DataFrame\nColumns: []\nIndex: []\nEmpty DataFrame\nColumns: []\nIndex: []\nEmpty DataFrame\nColumns: []\nIndex: []\nEmpty DataFrame\nColumns: []\nIndex: []\nEmpty DataFrame\nColumns: []\nIndex: []\nEmpty DataFrame\nColumns: []\nIndex: []\nEmpty DataFrame\nColumns: []\nIndex: []\n  commands               label\n0           __label__light_off\n1           __label__light_off\n2           __label__light_off\n3           __label__light_off\n4           __label__light_off\n"
     ]
    }
   ],
   "source": [
    "data_proprocess: Preprocessing = Preprocessing(stop_words, sms_translations_data)\n",
    "home_data_preprocessed = data_proprocess.preprocessing(home_data.copy())\n",
    "data_proprocess.saveToCsv(home_data_preprocessed)\n",
    "# home_data_preprocessed.head()\n",
    "\n",
    "# Process the output file to remove double quotes (\"\")\n",
    "# !sed -i 's/\"//g' ../output/comm_preprocessed.txt"
   ]
  },
  {
   "cell_type": "code",
   "execution_count": 13,
   "metadata": {},
   "outputs": [],
   "source": [
    "# Train a fasttext model in supervised fashion\n",
    "ft_model = Model.createFasttextModel(CONFIG.OUTPUT_DATASET_FILE)"
   ]
  },
  {
   "cell_type": "code",
   "execution_count": 15,
   "metadata": {},
   "outputs": [
    {
     "output_type": "execute_result",
     "data": {
      "text/plain": [
       "[(0.0, '</s>')]"
      ]
     },
     "metadata": {},
     "execution_count": 15
    }
   ],
   "source": [
    "# Testing the fasttext model\n",
    "ft_model.get_nearest_neighbors('light')"
   ]
  },
  {
   "cell_type": "code",
   "execution_count": null,
   "metadata": {},
   "outputs": [],
   "source": []
  }
 ]
}