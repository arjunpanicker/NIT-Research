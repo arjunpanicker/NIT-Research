{
 "cells": [
  {
   "cell_type": "markdown",
   "metadata": {},
   "source": [
    "# Import the required libraries and files"
   ]
  },
  {
   "cell_type": "code",
   "execution_count": 1,
   "metadata": {},
   "outputs": [],
   "source": [
    "import pandas as pd\n",
    "import numpy as np\n",
    "import fasttext\n",
    "from scipy.stats import uniform\n",
    "import pickle\n",
    "import re\n",
    "import os\n",
    "\n",
    "# scikit-learn\n",
    "from sklearn.model_selection import StratifiedKFold, cross_val_score, cross_val_predict\n",
    "from sklearn.model_selection import RandomizedSearchCV, GridSearchCV, train_test_split\n",
    "from sklearn.linear_model import LogisticRegression\n",
    "from sklearn.svm import SVC\n",
    "\n",
    "# Tensorflow\n",
    "import tensorflow as tf\n",
    "from tensorflow import keras\n",
    "from tensorflow.keras import layers, Sequential\n",
    "from tensorflow.keras.layers import Dense\n",
    "\n",
    "# Local Packages\n",
    "import hats.config\n",
    "import hats.utility as ut\n",
    "from hats.data_preprocessing import Preprocessing\n",
    "import hats.ml_model as ml\n",
    "from hats.config import CONFIG\n",
    "\n",
    "# Plotting\n",
    "import matplotlib.pyplot as plt\n",
    "import seaborn as sns\n",
    "\n",
    "%reload_ext autoreload\n",
    "%autoreload 2"
   ]
  },
  {
   "cell_type": "code",
   "execution_count": 2,
   "metadata": {},
   "outputs": [],
   "source": [
    "home_data = pd.read_csv('../dataset/dataset.csv', sep=';')\n",
    "translate_data = pd.read_csv('../dataset/translations_data.csv', sep=';')\n",
    "sms_translations_data = pd.read_csv('../dataset/sms_translations.csv', sep=';')\n",
    "\n",
    "stop_words = []\n",
    "with open('../dataset/stop_words.txt') as f:\n",
    "  stop_words = f.readlines()\n",
    "  stop_words = [word.replace('\\n', '') for word in stop_words]"
   ]
  },
  {
   "cell_type": "markdown",
   "metadata": {},
   "source": [
    "# Fasttext Model Training "
   ]
  },
  {
   "cell_type": "code",
   "execution_count": 3,
   "metadata": {
    "tags": []
   },
   "outputs": [],
   "source": [
    "data_proprocess: Preprocessing = Preprocessing(stop_words, sms_translations_data)\n",
    "home_data_preprocessed = data_proprocess.preprocessing(home_data.copy())\n",
    "data_proprocess.saveToCsv(home_data_preprocessed)\n",
    "\n",
    "# Process the output file to remove double quotes (\"\")\n",
    "!sed -i 's/\"//g' ../output/comm_preprocessed.txt"
   ]
  },
  {
   "cell_type": "code",
   "execution_count": 4,
   "metadata": {},
   "outputs": [],
   "source": [
    "# Train a fasttext model in supervised fashion\n",
    "ft_model = ml.createFasttextModel(CONFIG.OUTPUT_DATASET_FILE)"
   ]
  },
  {
   "cell_type": "code",
   "execution_count": 5,
   "metadata": {},
   "outputs": [
    {
     "data": {
      "text/plain": [
       "[(0.9935141205787659, 'lights'),\n",
       " (0.9850058555603027, 'batti'),\n",
       " (0.9815028309822083, 'balab'),\n",
       " (0.9748599529266357, 'btti'),\n",
       " (0.9550269842147827, 'blb'),\n",
       " (0.9518435597419739, 'balb'),\n",
       " (0.9482628703117371, 'bulb'),\n",
       " (0.8213207125663757, 'jla'),\n",
       " (0.6837052702903748, 'dark'),\n",
       " (0.6494420170783997, '</s>')]"
      ]
     },
     "execution_count": 5,
     "metadata": {},
     "output_type": "execute_result"
    }
   ],
   "source": [
    "# Testing the fasttext model\n",
    "ft_model.get_nearest_neighbors('light')"
   ]
  },
  {
   "cell_type": "code",
   "execution_count": 6,
   "metadata": {},
   "outputs": [
    {
     "data": {
      "text/plain": [
       "(('__label__geyser_off',), array([0.99954629]))"
      ]
     },
     "execution_count": 6,
     "metadata": {},
     "output_type": "execute_result"
    }
   ],
   "source": [
    "ft_model.predict('mai chahta hu ki tum geyser band kr do')"
   ]
  },
  {
   "cell_type": "code",
   "execution_count": 7,
   "metadata": {},
   "outputs": [
    {
     "data": {
      "text/plain": [
       "(150,)"
      ]
     },
     "execution_count": 7,
     "metadata": {},
     "output_type": "execute_result"
    }
   ],
   "source": [
    "ft_model.get_sentence_vector('mai chahta hu ki tum geyser band kr do').shape"
   ]
  },
  {
   "cell_type": "markdown",
   "metadata": {},
   "source": [
    "# Create additional columns to preprocessed dataset"
   ]
  },
  {
   "cell_type": "markdown",
   "metadata": {},
   "source": [
    "## 1. Create <i><b>sent_vec</b></i> column in main dataset for sentence vectors"
   ]
  },
  {
   "cell_type": "code",
   "execution_count": 8,
   "metadata": {},
   "outputs": [
    {
     "data": {
      "text/html": [
       "<div>\n",
       "<style scoped>\n",
       "    .dataframe tbody tr th:only-of-type {\n",
       "        vertical-align: middle;\n",
       "    }\n",
       "\n",
       "    .dataframe tbody tr th {\n",
       "        vertical-align: top;\n",
       "    }\n",
       "\n",
       "    .dataframe thead th {\n",
       "        text-align: right;\n",
       "    }\n",
       "</style>\n",
       "<table border=\"1\" class=\"dataframe\">\n",
       "  <thead>\n",
       "    <tr style=\"text-align: right;\">\n",
       "      <th></th>\n",
       "      <th>commands</th>\n",
       "      <th>label</th>\n",
       "      <th>sent_vec</th>\n",
       "    </tr>\n",
       "  </thead>\n",
       "  <tbody>\n",
       "    <tr>\n",
       "      <th>0</th>\n",
       "      <td>batti bujha</td>\n",
       "      <td>__label__light_off</td>\n",
       "      <td>[-0.48999605, 0.1333114, 0.22717625, 0.1859958...</td>\n",
       "    </tr>\n",
       "    <tr>\n",
       "      <th>1</th>\n",
       "      <td>balab bujha</td>\n",
       "      <td>__label__light_off</td>\n",
       "      <td>[-0.5850997, 0.18113594, 0.22892301, 0.1881361...</td>\n",
       "    </tr>\n",
       "    <tr>\n",
       "      <th>2</th>\n",
       "      <td>balab band</td>\n",
       "      <td>__label__light_off</td>\n",
       "      <td>[-0.3472372, 0.08529171, 0.24873054, 0.2589826...</td>\n",
       "    </tr>\n",
       "    <tr>\n",
       "      <th>3</th>\n",
       "      <td>light band</td>\n",
       "      <td>__label__light_off</td>\n",
       "      <td>[-0.44680595, 0.104153216, 0.2884985, 0.273713...</td>\n",
       "    </tr>\n",
       "    <tr>\n",
       "      <th>4</th>\n",
       "      <td>light bujha</td>\n",
       "      <td>__label__light_off</td>\n",
       "      <td>[-0.6846685, 0.19999743, 0.26869094, 0.2028671...</td>\n",
       "    </tr>\n",
       "    <tr>\n",
       "      <th>5</th>\n",
       "      <td>light off</td>\n",
       "      <td>__label__light_off</td>\n",
       "      <td>[-0.43388042, 0.08882418, 0.28215393, 0.267071...</td>\n",
       "    </tr>\n",
       "    <tr>\n",
       "      <th>6</th>\n",
       "      <td>dark</td>\n",
       "      <td>__label__light_off</td>\n",
       "      <td>[-0.6244457, 0.21468277, 0.23296306, 0.1963818...</td>\n",
       "    </tr>\n",
       "    <tr>\n",
       "      <th>7</th>\n",
       "      <td>off light</td>\n",
       "      <td>__label__light_off</td>\n",
       "      <td>[-0.43388042, 0.08882418, 0.28215393, 0.267071...</td>\n",
       "    </tr>\n",
       "    <tr>\n",
       "      <th>8</th>\n",
       "      <td>off light</td>\n",
       "      <td>__label__light_off</td>\n",
       "      <td>[-0.43388042, 0.08882418, 0.28215393, 0.267071...</td>\n",
       "    </tr>\n",
       "    <tr>\n",
       "      <th>9</th>\n",
       "      <td>batti bujhaw</td>\n",
       "      <td>__label__light_off</td>\n",
       "      <td>[-0.40502128, 0.1266126, 0.15435639, 0.1262813...</td>\n",
       "    </tr>\n",
       "  </tbody>\n",
       "</table>\n",
       "</div>"
      ],
      "text/plain": [
       "       commands               label  \\\n",
       "0   batti bujha  __label__light_off   \n",
       "1   balab bujha  __label__light_off   \n",
       "2    balab band  __label__light_off   \n",
       "3    light band  __label__light_off   \n",
       "4   light bujha  __label__light_off   \n",
       "5     light off  __label__light_off   \n",
       "6          dark  __label__light_off   \n",
       "7     off light  __label__light_off   \n",
       "8     off light  __label__light_off   \n",
       "9  batti bujhaw  __label__light_off   \n",
       "\n",
       "                                            sent_vec  \n",
       "0  [-0.48999605, 0.1333114, 0.22717625, 0.1859958...  \n",
       "1  [-0.5850997, 0.18113594, 0.22892301, 0.1881361...  \n",
       "2  [-0.3472372, 0.08529171, 0.24873054, 0.2589826...  \n",
       "3  [-0.44680595, 0.104153216, 0.2884985, 0.273713...  \n",
       "4  [-0.6846685, 0.19999743, 0.26869094, 0.2028671...  \n",
       "5  [-0.43388042, 0.08882418, 0.28215393, 0.267071...  \n",
       "6  [-0.6244457, 0.21468277, 0.23296306, 0.1963818...  \n",
       "7  [-0.43388042, 0.08882418, 0.28215393, 0.267071...  \n",
       "8  [-0.43388042, 0.08882418, 0.28215393, 0.267071...  \n",
       "9  [-0.40502128, 0.1266126, 0.15435639, 0.1262813...  "
      ]
     },
     "execution_count": 8,
     "metadata": {},
     "output_type": "execute_result"
    }
   ],
   "source": [
    "home_data_vectorized = data_proprocess.convertCommandToVector(home_data_preprocessed, ft_model)\n",
    "home_data_vectorized.head(10)"
   ]
  },
  {
   "cell_type": "markdown",
   "metadata": {},
   "source": [
    "## 2. Add a column for each class using OVR scheme\n",
    "\n",
    "After adding the columns, create a single layer perceptron model with 150 inputs and 1 output with sigmoid activation. \n",
    "\n",
    "Total number of such models will be equal to the number of classes in the dataset. This is to train multiple models using the OVR technique and while predicting, we will use all the models to predict the final class label of the test command."
   ]
  },
  {
   "cell_type": "code",
   "execution_count": 9,
   "metadata": {},
   "outputs": [],
   "source": [
    "home_data_ovr = ut.add_class_ovr_cols(home_data_vectorized.copy())"
   ]
  },
  {
   "cell_type": "markdown",
   "metadata": {},
   "source": [
    "# Tensorflow Model"
   ]
  },
  {
   "cell_type": "code",
   "execution_count": 11,
   "metadata": {},
   "outputs": [],
   "source": [
    "models = ml.createPerceptronModels(home_data_ovr['label'].unique())"
   ]
  },
  {
   "cell_type": "code",
   "execution_count": 12,
   "metadata": {},
   "outputs": [],
   "source": [
    "for m_name in models.keys():\n",
    "    models[m_name].compile(optimizer=keras.optimizers.Adam(), loss='binary_crossentropy', metrics=['accuracy'])"
   ]
  },
  {
   "cell_type": "code",
   "execution_count": 13,
   "metadata": {},
   "outputs": [
    {
     "name": "stdout",
     "output_type": "stream",
     "text": [
      "Epoch 1/50\n",
      "10/10 [==============================] - 1s 101ms/step - loss: 0.6937 - accuracy: 0.4948 - val_loss: 0.6781 - val_accuracy: 0.5625\n",
      "Epoch 2/50\n",
      "10/10 [==============================] - 0s 43ms/step - loss: 0.6852 - accuracy: 0.5104 - val_loss: 0.6695 - val_accuracy: 0.6042\n",
      "Epoch 3/50\n",
      "10/10 [==============================] - 0s 41ms/step - loss: 0.6776 - accuracy: 0.5521 - val_loss: 0.6616 - val_accuracy: 0.6042\n",
      "Epoch 4/50\n",
      "10/10 [==============================] - 0s 35ms/step - loss: 0.6706 - accuracy: 0.5990 - val_loss: 0.6540 - val_accuracy: 0.6250\n",
      "Epoch 5/50\n",
      "10/10 [==============================] - 0s 44ms/step - loss: 0.6638 - accuracy: 0.6042 - val_loss: 0.6470 - val_accuracy: 0.5833\n",
      "Epoch 6/50\n",
      "10/10 [==============================] - 0s 43ms/step - loss: 0.6575 - accuracy: 0.6042 - val_loss: 0.6404 - val_accuracy: 0.6042\n",
      "Epoch 7/50\n",
      "10/10 [==============================] - 0s 40ms/step - loss: 0.6511 - accuracy: 0.6354 - val_loss: 0.6345 - val_accuracy: 0.6458\n",
      "Epoch 8/50\n",
      "10/10 [==============================] - 0s 39ms/step - loss: 0.6450 - accuracy: 0.6302 - val_loss: 0.6286 - val_accuracy: 0.6667\n",
      "Epoch 9/50\n",
      "10/10 [==============================] - 0s 36ms/step - loss: 0.6397 - accuracy: 0.6719 - val_loss: 0.6237 - val_accuracy: 0.7083\n",
      "Epoch 10/50\n",
      "10/10 [==============================] - 0s 40ms/step - loss: 0.6340 - accuracy: 0.6927 - val_loss: 0.6181 - val_accuracy: 0.7083\n",
      "Epoch 11/50\n",
      "10/10 [==============================] - 0s 46ms/step - loss: 0.6285 - accuracy: 0.6927 - val_loss: 0.6128 - val_accuracy: 0.7292\n",
      "Epoch 12/50\n",
      "10/10 [==============================] - 0s 38ms/step - loss: 0.6236 - accuracy: 0.6927 - val_loss: 0.6069 - val_accuracy: 0.7500\n",
      "Epoch 13/50\n",
      "10/10 [==============================] - 0s 41ms/step - loss: 0.6184 - accuracy: 0.7188 - val_loss: 0.6018 - val_accuracy: 0.7708\n",
      "Epoch 14/50\n",
      "10/10 [==============================] - 0s 39ms/step - loss: 0.6134 - accuracy: 0.7292 - val_loss: 0.5967 - val_accuracy: 0.7708\n",
      "Epoch 15/50\n",
      "10/10 [==============================] - 0s 36ms/step - loss: 0.6083 - accuracy: 0.7396 - val_loss: 0.5919 - val_accuracy: 0.7708\n",
      "Epoch 16/50\n",
      "10/10 [==============================] - 0s 39ms/step - loss: 0.6037 - accuracy: 0.7500 - val_loss: 0.5871 - val_accuracy: 0.7917\n",
      "Epoch 17/50\n",
      "10/10 [==============================] - 0s 45ms/step - loss: 0.5991 - accuracy: 0.7552 - val_loss: 0.5819 - val_accuracy: 0.7917\n",
      "Epoch 18/50\n",
      "10/10 [==============================] - 0s 40ms/step - loss: 0.5941 - accuracy: 0.7656 - val_loss: 0.5772 - val_accuracy: 0.7917\n",
      "Epoch 19/50\n",
      "10/10 [==============================] - 0s 45ms/step - loss: 0.5898 - accuracy: 0.7865 - val_loss: 0.5727 - val_accuracy: 0.8125\n",
      "Epoch 20/50\n",
      "10/10 [==============================] - 1s 51ms/step - loss: 0.5854 - accuracy: 0.7865 - val_loss: 0.5677 - val_accuracy: 0.8125\n",
      "Epoch 21/50\n",
      "10/10 [==============================] - 0s 43ms/step - loss: 0.5810 - accuracy: 0.8021 - val_loss: 0.5640 - val_accuracy: 0.8125\n",
      "Epoch 22/50\n",
      "10/10 [==============================] - 0s 40ms/step - loss: 0.5767 - accuracy: 0.8281 - val_loss: 0.5594 - val_accuracy: 0.8125\n",
      "Epoch 23/50\n",
      "10/10 [==============================] - 0s 47ms/step - loss: 0.5722 - accuracy: 0.8490 - val_loss: 0.5551 - val_accuracy: 0.8125\n",
      "Epoch 24/50\n",
      "10/10 [==============================] - 0s 40ms/step - loss: 0.5681 - accuracy: 0.8542 - val_loss: 0.5507 - val_accuracy: 0.8333\n",
      "Epoch 25/50\n",
      "10/10 [==============================] - 0s 35ms/step - loss: 0.5641 - accuracy: 0.8594 - val_loss: 0.5464 - val_accuracy: 0.8542\n",
      "Epoch 26/50\n",
      "10/10 [==============================] - 0s 42ms/step - loss: 0.5602 - accuracy: 0.8698 - val_loss: 0.5419 - val_accuracy: 0.9167\n",
      "Epoch 27/50\n",
      "10/10 [==============================] - 0s 30ms/step - loss: 0.5559 - accuracy: 0.8698 - val_loss: 0.5377 - val_accuracy: 0.9167\n",
      "Epoch 28/50\n",
      "10/10 [==============================] - 0s 33ms/step - loss: 0.5519 - accuracy: 0.8698 - val_loss: 0.5340 - val_accuracy: 0.9167\n",
      "Epoch 29/50\n",
      "10/10 [==============================] - 0s 40ms/step - loss: 0.5480 - accuracy: 0.8698 - val_loss: 0.5301 - val_accuracy: 0.9167\n",
      "Epoch 30/50\n",
      "10/10 [==============================] - 0s 24ms/step - loss: 0.5446 - accuracy: 0.8698 - val_loss: 0.5263 - val_accuracy: 0.9167\n",
      "Epoch 31/50\n",
      "10/10 [==============================] - 0s 41ms/step - loss: 0.5405 - accuracy: 0.8698 - val_loss: 0.5219 - val_accuracy: 0.9167\n",
      "Epoch 32/50\n",
      "10/10 [==============================] - 0s 34ms/step - loss: 0.5366 - accuracy: 0.8698 - val_loss: 0.5178 - val_accuracy: 0.9167\n",
      "Epoch 33/50\n",
      "10/10 [==============================] - 0s 37ms/step - loss: 0.5333 - accuracy: 0.8698 - val_loss: 0.5139 - val_accuracy: 0.9167\n",
      "Epoch 34/50\n",
      "10/10 [==============================] - 0s 40ms/step - loss: 0.5296 - accuracy: 0.8698 - val_loss: 0.5102 - val_accuracy: 0.9167\n",
      "Epoch 35/50\n",
      "10/10 [==============================] - 0s 30ms/step - loss: 0.5260 - accuracy: 0.8854 - val_loss: 0.5063 - val_accuracy: 0.9167\n",
      "Epoch 36/50\n",
      "10/10 [==============================] - 0s 23ms/step - loss: 0.5225 - accuracy: 0.8802 - val_loss: 0.5023 - val_accuracy: 0.9167\n",
      "Epoch 37/50\n",
      "10/10 [==============================] - 0s 41ms/step - loss: 0.5194 - accuracy: 0.8958 - val_loss: 0.4989 - val_accuracy: 0.9375\n",
      "Epoch 38/50\n",
      " 9/10 [==========================>...] - ETA: 0s - loss: 0.5148 - accuracy: 0.9000"
     ]
    },
    {
     "ename": "KeyboardInterrupt",
     "evalue": "",
     "output_type": "error",
     "traceback": [
      "\u001b[0;31m---------------------------------------------------------------------------\u001b[0m",
      "\u001b[0;31mKeyboardInterrupt\u001b[0m                         Traceback (most recent call last)",
      "\u001b[0;32m<ipython-input-13-cee79d756ccb>\u001b[0m in \u001b[0;36m<module>\u001b[0;34m()\u001b[0m\n\u001b[1;32m      1\u001b[0m \u001b[0;32mfor\u001b[0m \u001b[0mX_train\u001b[0m\u001b[0;34m,\u001b[0m \u001b[0mX_test\u001b[0m\u001b[0;34m,\u001b[0m \u001b[0my_train\u001b[0m\u001b[0;34m,\u001b[0m \u001b[0my_test\u001b[0m\u001b[0;34m,\u001b[0m \u001b[0mlabel\u001b[0m \u001b[0;32min\u001b[0m \u001b[0mut\u001b[0m\u001b[0;34m.\u001b[0m\u001b[0mdata_split\u001b[0m\u001b[0;34m(\u001b[0m\u001b[0mhome_data_ovr\u001b[0m\u001b[0;34m)\u001b[0m\u001b[0;34m:\u001b[0m\u001b[0;34m\u001b[0m\u001b[0;34m\u001b[0m\u001b[0m\n\u001b[0;32m----> 2\u001b[0;31m     \u001b[0mhistory\u001b[0m \u001b[0;34m=\u001b[0m \u001b[0mmodels\u001b[0m\u001b[0;34m[\u001b[0m\u001b[0mlabel\u001b[0m\u001b[0;34m]\u001b[0m\u001b[0;34m.\u001b[0m\u001b[0mfit\u001b[0m\u001b[0;34m(\u001b[0m\u001b[0mX_train\u001b[0m\u001b[0;34m,\u001b[0m \u001b[0my_train\u001b[0m\u001b[0;34m,\u001b[0m \u001b[0mbatch_size\u001b[0m\u001b[0;34m=\u001b[0m\u001b[0;36m20\u001b[0m\u001b[0;34m,\u001b[0m \u001b[0mepochs\u001b[0m\u001b[0;34m=\u001b[0m\u001b[0;36m50\u001b[0m\u001b[0;34m,\u001b[0m \u001b[0mvalidation_data\u001b[0m\u001b[0;34m=\u001b[0m\u001b[0;34m(\u001b[0m\u001b[0mX_test\u001b[0m\u001b[0;34m,\u001b[0m \u001b[0my_test\u001b[0m\u001b[0;34m)\u001b[0m\u001b[0;34m)\u001b[0m\u001b[0;34m\u001b[0m\u001b[0;34m\u001b[0m\u001b[0m\n\u001b[0m\u001b[1;32m      3\u001b[0m     \u001b[0mut\u001b[0m\u001b[0;34m.\u001b[0m\u001b[0mplot\u001b[0m\u001b[0;34m(\u001b[0m\u001b[0mhistory\u001b[0m\u001b[0;34m.\u001b[0m\u001b[0mhistory\u001b[0m\u001b[0;34m,\u001b[0m \u001b[0;34m'Model '\u001b[0m \u001b[0;34m+\u001b[0m \u001b[0mlabel\u001b[0m\u001b[0;34m,\u001b[0m \u001b[0;34m'plot_'\u001b[0m \u001b[0;34m+\u001b[0m \u001b[0mlabel\u001b[0m \u001b[0;34m+\u001b[0m \u001b[0;34m'.png'\u001b[0m\u001b[0;34m)\u001b[0m\u001b[0;34m\u001b[0m\u001b[0;34m\u001b[0m\u001b[0m\n\u001b[1;32m      4\u001b[0m     \u001b[0;32mbreak\u001b[0m\u001b[0;34m\u001b[0m\u001b[0;34m\u001b[0m\u001b[0m\n",
      "\u001b[0;32m/home/arjun/miniconda3/envs/dev/lib/python3.6/site-packages/tensorflow/python/keras/engine/training.py\u001b[0m in \u001b[0;36m_method_wrapper\u001b[0;34m(self, *args, **kwargs)\u001b[0m\n\u001b[1;32m     64\u001b[0m   \u001b[0;32mdef\u001b[0m \u001b[0m_method_wrapper\u001b[0m\u001b[0;34m(\u001b[0m\u001b[0mself\u001b[0m\u001b[0;34m,\u001b[0m \u001b[0;34m*\u001b[0m\u001b[0margs\u001b[0m\u001b[0;34m,\u001b[0m \u001b[0;34m**\u001b[0m\u001b[0mkwargs\u001b[0m\u001b[0;34m)\u001b[0m\u001b[0;34m:\u001b[0m\u001b[0;34m\u001b[0m\u001b[0;34m\u001b[0m\u001b[0m\n\u001b[1;32m     65\u001b[0m     \u001b[0;32mif\u001b[0m \u001b[0;32mnot\u001b[0m \u001b[0mself\u001b[0m\u001b[0;34m.\u001b[0m\u001b[0m_in_multi_worker_mode\u001b[0m\u001b[0;34m(\u001b[0m\u001b[0;34m)\u001b[0m\u001b[0;34m:\u001b[0m  \u001b[0;31m# pylint: disable=protected-access\u001b[0m\u001b[0;34m\u001b[0m\u001b[0;34m\u001b[0m\u001b[0m\n\u001b[0;32m---> 66\u001b[0;31m       \u001b[0;32mreturn\u001b[0m \u001b[0mmethod\u001b[0m\u001b[0;34m(\u001b[0m\u001b[0mself\u001b[0m\u001b[0;34m,\u001b[0m \u001b[0;34m*\u001b[0m\u001b[0margs\u001b[0m\u001b[0;34m,\u001b[0m \u001b[0;34m**\u001b[0m\u001b[0mkwargs\u001b[0m\u001b[0;34m)\u001b[0m\u001b[0;34m\u001b[0m\u001b[0;34m\u001b[0m\u001b[0m\n\u001b[0m\u001b[1;32m     67\u001b[0m \u001b[0;34m\u001b[0m\u001b[0m\n\u001b[1;32m     68\u001b[0m     \u001b[0;31m# Running inside `run_distribute_coordinator` already.\u001b[0m\u001b[0;34m\u001b[0m\u001b[0;34m\u001b[0m\u001b[0;34m\u001b[0m\u001b[0m\n",
      "\u001b[0;32m/home/arjun/miniconda3/envs/dev/lib/python3.6/site-packages/tensorflow/python/keras/engine/training.py\u001b[0m in \u001b[0;36mfit\u001b[0;34m(self, x, y, batch_size, epochs, verbose, callbacks, validation_split, validation_data, shuffle, class_weight, sample_weight, initial_epoch, steps_per_epoch, validation_steps, validation_batch_size, validation_freq, max_queue_size, workers, use_multiprocessing)\u001b[0m\n\u001b[1;32m    870\u001b[0m               \u001b[0mworkers\u001b[0m\u001b[0;34m=\u001b[0m\u001b[0mworkers\u001b[0m\u001b[0;34m,\u001b[0m\u001b[0;34m\u001b[0m\u001b[0;34m\u001b[0m\u001b[0m\n\u001b[1;32m    871\u001b[0m               \u001b[0muse_multiprocessing\u001b[0m\u001b[0;34m=\u001b[0m\u001b[0muse_multiprocessing\u001b[0m\u001b[0;34m,\u001b[0m\u001b[0;34m\u001b[0m\u001b[0;34m\u001b[0m\u001b[0m\n\u001b[0;32m--> 872\u001b[0;31m               return_dict=True)\n\u001b[0m\u001b[1;32m    873\u001b[0m           \u001b[0mval_logs\u001b[0m \u001b[0;34m=\u001b[0m \u001b[0;34m{\u001b[0m\u001b[0;34m'val_'\u001b[0m \u001b[0;34m+\u001b[0m \u001b[0mname\u001b[0m\u001b[0;34m:\u001b[0m \u001b[0mval\u001b[0m \u001b[0;32mfor\u001b[0m \u001b[0mname\u001b[0m\u001b[0;34m,\u001b[0m \u001b[0mval\u001b[0m \u001b[0;32min\u001b[0m \u001b[0mval_logs\u001b[0m\u001b[0;34m.\u001b[0m\u001b[0mitems\u001b[0m\u001b[0;34m(\u001b[0m\u001b[0;34m)\u001b[0m\u001b[0;34m}\u001b[0m\u001b[0;34m\u001b[0m\u001b[0;34m\u001b[0m\u001b[0m\n\u001b[1;32m    874\u001b[0m           \u001b[0mepoch_logs\u001b[0m\u001b[0;34m.\u001b[0m\u001b[0mupdate\u001b[0m\u001b[0;34m(\u001b[0m\u001b[0mval_logs\u001b[0m\u001b[0;34m)\u001b[0m\u001b[0;34m\u001b[0m\u001b[0;34m\u001b[0m\u001b[0m\n",
      "\u001b[0;32m/home/arjun/miniconda3/envs/dev/lib/python3.6/site-packages/tensorflow/python/keras/engine/training.py\u001b[0m in \u001b[0;36m_method_wrapper\u001b[0;34m(self, *args, **kwargs)\u001b[0m\n\u001b[1;32m     64\u001b[0m   \u001b[0;32mdef\u001b[0m \u001b[0m_method_wrapper\u001b[0m\u001b[0;34m(\u001b[0m\u001b[0mself\u001b[0m\u001b[0;34m,\u001b[0m \u001b[0;34m*\u001b[0m\u001b[0margs\u001b[0m\u001b[0;34m,\u001b[0m \u001b[0;34m**\u001b[0m\u001b[0mkwargs\u001b[0m\u001b[0;34m)\u001b[0m\u001b[0;34m:\u001b[0m\u001b[0;34m\u001b[0m\u001b[0;34m\u001b[0m\u001b[0m\n\u001b[1;32m     65\u001b[0m     \u001b[0;32mif\u001b[0m \u001b[0;32mnot\u001b[0m \u001b[0mself\u001b[0m\u001b[0;34m.\u001b[0m\u001b[0m_in_multi_worker_mode\u001b[0m\u001b[0;34m(\u001b[0m\u001b[0;34m)\u001b[0m\u001b[0;34m:\u001b[0m  \u001b[0;31m# pylint: disable=protected-access\u001b[0m\u001b[0;34m\u001b[0m\u001b[0;34m\u001b[0m\u001b[0m\n\u001b[0;32m---> 66\u001b[0;31m       \u001b[0;32mreturn\u001b[0m \u001b[0mmethod\u001b[0m\u001b[0;34m(\u001b[0m\u001b[0mself\u001b[0m\u001b[0;34m,\u001b[0m \u001b[0;34m*\u001b[0m\u001b[0margs\u001b[0m\u001b[0;34m,\u001b[0m \u001b[0;34m**\u001b[0m\u001b[0mkwargs\u001b[0m\u001b[0;34m)\u001b[0m\u001b[0;34m\u001b[0m\u001b[0;34m\u001b[0m\u001b[0m\n\u001b[0m\u001b[1;32m     67\u001b[0m \u001b[0;34m\u001b[0m\u001b[0m\n\u001b[1;32m     68\u001b[0m     \u001b[0;31m# Running inside `run_distribute_coordinator` already.\u001b[0m\u001b[0;34m\u001b[0m\u001b[0;34m\u001b[0m\u001b[0;34m\u001b[0m\u001b[0m\n",
      "\u001b[0;32m/home/arjun/miniconda3/envs/dev/lib/python3.6/site-packages/tensorflow/python/keras/engine/training.py\u001b[0m in \u001b[0;36mevaluate\u001b[0;34m(self, x, y, batch_size, verbose, sample_weight, steps, callbacks, max_queue_size, workers, use_multiprocessing, return_dict)\u001b[0m\n\u001b[1;32m   1079\u001b[0m                 step_num=step):\n\u001b[1;32m   1080\u001b[0m               \u001b[0mcallbacks\u001b[0m\u001b[0;34m.\u001b[0m\u001b[0mon_test_batch_begin\u001b[0m\u001b[0;34m(\u001b[0m\u001b[0mstep\u001b[0m\u001b[0;34m)\u001b[0m\u001b[0;34m\u001b[0m\u001b[0;34m\u001b[0m\u001b[0m\n\u001b[0;32m-> 1081\u001b[0;31m               \u001b[0mtmp_logs\u001b[0m \u001b[0;34m=\u001b[0m \u001b[0mtest_function\u001b[0m\u001b[0;34m(\u001b[0m\u001b[0miterator\u001b[0m\u001b[0;34m)\u001b[0m\u001b[0;34m\u001b[0m\u001b[0;34m\u001b[0m\u001b[0m\n\u001b[0m\u001b[1;32m   1082\u001b[0m               \u001b[0;31m# Catch OutOfRangeError for Datasets of unknown size.\u001b[0m\u001b[0;34m\u001b[0m\u001b[0;34m\u001b[0m\u001b[0;34m\u001b[0m\u001b[0m\n\u001b[1;32m   1083\u001b[0m               \u001b[0;31m# This blocks until the batch has finished executing.\u001b[0m\u001b[0;34m\u001b[0m\u001b[0;34m\u001b[0m\u001b[0;34m\u001b[0m\u001b[0m\n",
      "\u001b[0;32m/home/arjun/miniconda3/envs/dev/lib/python3.6/site-packages/tensorflow/python/eager/def_function.py\u001b[0m in \u001b[0;36m__call__\u001b[0;34m(self, *args, **kwds)\u001b[0m\n\u001b[1;32m    578\u001b[0m         \u001b[0mxla_context\u001b[0m\u001b[0;34m.\u001b[0m\u001b[0mExit\u001b[0m\u001b[0;34m(\u001b[0m\u001b[0;34m)\u001b[0m\u001b[0;34m\u001b[0m\u001b[0;34m\u001b[0m\u001b[0m\n\u001b[1;32m    579\u001b[0m     \u001b[0;32melse\u001b[0m\u001b[0;34m:\u001b[0m\u001b[0;34m\u001b[0m\u001b[0;34m\u001b[0m\u001b[0m\n\u001b[0;32m--> 580\u001b[0;31m       \u001b[0mresult\u001b[0m \u001b[0;34m=\u001b[0m \u001b[0mself\u001b[0m\u001b[0;34m.\u001b[0m\u001b[0m_call\u001b[0m\u001b[0;34m(\u001b[0m\u001b[0;34m*\u001b[0m\u001b[0margs\u001b[0m\u001b[0;34m,\u001b[0m \u001b[0;34m**\u001b[0m\u001b[0mkwds\u001b[0m\u001b[0;34m)\u001b[0m\u001b[0;34m\u001b[0m\u001b[0;34m\u001b[0m\u001b[0m\n\u001b[0m\u001b[1;32m    581\u001b[0m \u001b[0;34m\u001b[0m\u001b[0m\n\u001b[1;32m    582\u001b[0m     \u001b[0;32mif\u001b[0m \u001b[0mtracing_count\u001b[0m \u001b[0;34m==\u001b[0m \u001b[0mself\u001b[0m\u001b[0;34m.\u001b[0m\u001b[0m_get_tracing_count\u001b[0m\u001b[0;34m(\u001b[0m\u001b[0;34m)\u001b[0m\u001b[0;34m:\u001b[0m\u001b[0;34m\u001b[0m\u001b[0;34m\u001b[0m\u001b[0m\n",
      "\u001b[0;32m/home/arjun/miniconda3/envs/dev/lib/python3.6/site-packages/tensorflow/python/eager/def_function.py\u001b[0m in \u001b[0;36m_call\u001b[0;34m(self, *args, **kwds)\u001b[0m\n\u001b[1;32m    616\u001b[0m       \u001b[0;31m# In this case we have not created variables on the first call. So we can\u001b[0m\u001b[0;34m\u001b[0m\u001b[0;34m\u001b[0m\u001b[0;34m\u001b[0m\u001b[0m\n\u001b[1;32m    617\u001b[0m       \u001b[0;31m# run the first trace but we should fail if variables are created.\u001b[0m\u001b[0;34m\u001b[0m\u001b[0;34m\u001b[0m\u001b[0;34m\u001b[0m\u001b[0m\n\u001b[0;32m--> 618\u001b[0;31m       \u001b[0mresults\u001b[0m \u001b[0;34m=\u001b[0m \u001b[0mself\u001b[0m\u001b[0;34m.\u001b[0m\u001b[0m_stateful_fn\u001b[0m\u001b[0;34m(\u001b[0m\u001b[0;34m*\u001b[0m\u001b[0margs\u001b[0m\u001b[0;34m,\u001b[0m \u001b[0;34m**\u001b[0m\u001b[0mkwds\u001b[0m\u001b[0;34m)\u001b[0m\u001b[0;34m\u001b[0m\u001b[0;34m\u001b[0m\u001b[0m\n\u001b[0m\u001b[1;32m    619\u001b[0m       \u001b[0;32mif\u001b[0m \u001b[0mself\u001b[0m\u001b[0;34m.\u001b[0m\u001b[0m_created_variables\u001b[0m\u001b[0;34m:\u001b[0m\u001b[0;34m\u001b[0m\u001b[0;34m\u001b[0m\u001b[0m\n\u001b[1;32m    620\u001b[0m         raise ValueError(\"Creating variables on a non-first call to a function\"\n",
      "\u001b[0;32m/home/arjun/miniconda3/envs/dev/lib/python3.6/site-packages/tensorflow/python/eager/function.py\u001b[0m in \u001b[0;36m__call__\u001b[0;34m(self, *args, **kwargs)\u001b[0m\n\u001b[1;32m   2418\u001b[0m     \u001b[0;32mwith\u001b[0m \u001b[0mself\u001b[0m\u001b[0;34m.\u001b[0m\u001b[0m_lock\u001b[0m\u001b[0;34m:\u001b[0m\u001b[0;34m\u001b[0m\u001b[0;34m\u001b[0m\u001b[0m\n\u001b[1;32m   2419\u001b[0m       \u001b[0mgraph_function\u001b[0m\u001b[0;34m,\u001b[0m \u001b[0margs\u001b[0m\u001b[0;34m,\u001b[0m \u001b[0mkwargs\u001b[0m \u001b[0;34m=\u001b[0m \u001b[0mself\u001b[0m\u001b[0;34m.\u001b[0m\u001b[0m_maybe_define_function\u001b[0m\u001b[0;34m(\u001b[0m\u001b[0margs\u001b[0m\u001b[0;34m,\u001b[0m \u001b[0mkwargs\u001b[0m\u001b[0;34m)\u001b[0m\u001b[0;34m\u001b[0m\u001b[0;34m\u001b[0m\u001b[0m\n\u001b[0;32m-> 2420\u001b[0;31m     \u001b[0;32mreturn\u001b[0m \u001b[0mgraph_function\u001b[0m\u001b[0;34m.\u001b[0m\u001b[0m_filtered_call\u001b[0m\u001b[0;34m(\u001b[0m\u001b[0margs\u001b[0m\u001b[0;34m,\u001b[0m \u001b[0mkwargs\u001b[0m\u001b[0;34m)\u001b[0m  \u001b[0;31m# pylint: disable=protected-access\u001b[0m\u001b[0;34m\u001b[0m\u001b[0;34m\u001b[0m\u001b[0m\n\u001b[0m\u001b[1;32m   2421\u001b[0m \u001b[0;34m\u001b[0m\u001b[0m\n\u001b[1;32m   2422\u001b[0m   \u001b[0;34m@\u001b[0m\u001b[0mproperty\u001b[0m\u001b[0;34m\u001b[0m\u001b[0;34m\u001b[0m\u001b[0m\n",
      "\u001b[0;32m/home/arjun/miniconda3/envs/dev/lib/python3.6/site-packages/tensorflow/python/eager/function.py\u001b[0m in \u001b[0;36m_filtered_call\u001b[0;34m(self, args, kwargs)\u001b[0m\n\u001b[1;32m   1663\u001b[0m          if isinstance(t, (ops.Tensor,\n\u001b[1;32m   1664\u001b[0m                            resource_variable_ops.BaseResourceVariable))),\n\u001b[0;32m-> 1665\u001b[0;31m         self.captured_inputs)\n\u001b[0m\u001b[1;32m   1666\u001b[0m \u001b[0;34m\u001b[0m\u001b[0m\n\u001b[1;32m   1667\u001b[0m   \u001b[0;32mdef\u001b[0m \u001b[0m_call_flat\u001b[0m\u001b[0;34m(\u001b[0m\u001b[0mself\u001b[0m\u001b[0;34m,\u001b[0m \u001b[0margs\u001b[0m\u001b[0;34m,\u001b[0m \u001b[0mcaptured_inputs\u001b[0m\u001b[0;34m,\u001b[0m \u001b[0mcancellation_manager\u001b[0m\u001b[0;34m=\u001b[0m\u001b[0;32mNone\u001b[0m\u001b[0;34m)\u001b[0m\u001b[0;34m:\u001b[0m\u001b[0;34m\u001b[0m\u001b[0;34m\u001b[0m\u001b[0m\n",
      "\u001b[0;32m/home/arjun/miniconda3/envs/dev/lib/python3.6/site-packages/tensorflow/python/eager/function.py\u001b[0m in \u001b[0;36m_call_flat\u001b[0;34m(self, args, captured_inputs, cancellation_manager)\u001b[0m\n\u001b[1;32m   1744\u001b[0m       \u001b[0;31m# No tape is watching; skip to running the function.\u001b[0m\u001b[0;34m\u001b[0m\u001b[0;34m\u001b[0m\u001b[0;34m\u001b[0m\u001b[0m\n\u001b[1;32m   1745\u001b[0m       return self._build_call_outputs(self._inference_function.call(\n\u001b[0;32m-> 1746\u001b[0;31m           ctx, args, cancellation_manager=cancellation_manager))\n\u001b[0m\u001b[1;32m   1747\u001b[0m     forward_backward = self._select_forward_and_backward_functions(\n\u001b[1;32m   1748\u001b[0m         \u001b[0margs\u001b[0m\u001b[0;34m,\u001b[0m\u001b[0;34m\u001b[0m\u001b[0;34m\u001b[0m\u001b[0m\n",
      "\u001b[0;32m/home/arjun/miniconda3/envs/dev/lib/python3.6/site-packages/tensorflow/python/eager/function.py\u001b[0m in \u001b[0;36mcall\u001b[0;34m(self, ctx, args, cancellation_manager)\u001b[0m\n\u001b[1;32m    596\u001b[0m               \u001b[0minputs\u001b[0m\u001b[0;34m=\u001b[0m\u001b[0margs\u001b[0m\u001b[0;34m,\u001b[0m\u001b[0;34m\u001b[0m\u001b[0;34m\u001b[0m\u001b[0m\n\u001b[1;32m    597\u001b[0m               \u001b[0mattrs\u001b[0m\u001b[0;34m=\u001b[0m\u001b[0mattrs\u001b[0m\u001b[0;34m,\u001b[0m\u001b[0;34m\u001b[0m\u001b[0;34m\u001b[0m\u001b[0m\n\u001b[0;32m--> 598\u001b[0;31m               ctx=ctx)\n\u001b[0m\u001b[1;32m    599\u001b[0m         \u001b[0;32melse\u001b[0m\u001b[0;34m:\u001b[0m\u001b[0;34m\u001b[0m\u001b[0;34m\u001b[0m\u001b[0m\n\u001b[1;32m    600\u001b[0m           outputs = execute.execute_with_cancellation(\n",
      "\u001b[0;32m/home/arjun/miniconda3/envs/dev/lib/python3.6/site-packages/tensorflow/python/eager/execute.py\u001b[0m in \u001b[0;36mquick_execute\u001b[0;34m(op_name, num_outputs, inputs, attrs, ctx, name)\u001b[0m\n\u001b[1;32m     58\u001b[0m     \u001b[0mctx\u001b[0m\u001b[0;34m.\u001b[0m\u001b[0mensure_initialized\u001b[0m\u001b[0;34m(\u001b[0m\u001b[0;34m)\u001b[0m\u001b[0;34m\u001b[0m\u001b[0;34m\u001b[0m\u001b[0m\n\u001b[1;32m     59\u001b[0m     tensors = pywrap_tfe.TFE_Py_Execute(ctx._handle, device_name, op_name,\n\u001b[0;32m---> 60\u001b[0;31m                                         inputs, attrs, num_outputs)\n\u001b[0m\u001b[1;32m     61\u001b[0m   \u001b[0;32mexcept\u001b[0m \u001b[0mcore\u001b[0m\u001b[0;34m.\u001b[0m\u001b[0m_NotOkStatusException\u001b[0m \u001b[0;32mas\u001b[0m \u001b[0me\u001b[0m\u001b[0;34m:\u001b[0m\u001b[0;34m\u001b[0m\u001b[0;34m\u001b[0m\u001b[0m\n\u001b[1;32m     62\u001b[0m     \u001b[0;32mif\u001b[0m \u001b[0mname\u001b[0m \u001b[0;32mis\u001b[0m \u001b[0;32mnot\u001b[0m \u001b[0;32mNone\u001b[0m\u001b[0;34m:\u001b[0m\u001b[0;34m\u001b[0m\u001b[0;34m\u001b[0m\u001b[0m\n",
      "\u001b[0;31mKeyboardInterrupt\u001b[0m: "
     ]
    }
   ],
   "source": [
    "for X_train, X_test, y_train, y_test, label in ut.data_split_classwise(home_data_ovr):\n",
    "    history = models[label].fit(X_train, y_train, batch_size=20, epochs=50, validation_data=(X_test, y_test))\n",
    "    ut.plot(history.history, 'Model ' + label, 'plot_' + label + '.png')\n",
    "    break"
   ]
  },
  {
   "cell_type": "markdown",
   "metadata": {},
   "source": [
    "# Scikit-learn models"
   ]
  },
  {
   "cell_type": "markdown",
   "metadata": {},
   "source": [
    "Grid search using SVC"
   ]
  },
  {
   "cell_type": "code",
   "execution_count": 10,
   "metadata": {},
   "outputs": [],
   "source": [
    "X_train, X_test, y_train, y_test = ut.data_split(home_data_ovr, test_size=0.3)"
   ]
  },
  {
   "cell_type": "code",
   "execution_count": 11,
   "metadata": {},
   "outputs": [
    {
     "name": "stderr",
     "output_type": "stream",
     "text": [
      " 33%|███▎      | 1/3 [00:05<00:10,  5.15s/it]\n",
      "Model: SVC, Train Accuracy: 1.0\n",
      " 67%|██████▋   | 2/3 [01:04<00:37, 37.28s/it]\n",
      "Model: LogisticRegression, Train Accuracy: 1.0\n",
      "100%|██████████| 3/3 [01:05<00:00, 21.88s/it]\n",
      "Model: KNeighborsClassifier, Train Accuracy: 1.0\n",
      "\n"
     ]
    }
   ],
   "source": [
    "classifiers = ml.train(X_train, y_train)"
   ]
  },
  {
   "cell_type": "code",
   "execution_count": 12,
   "metadata": {},
   "outputs": [
    {
     "name": "stdout",
     "output_type": "stream",
     "text": [
      "\n",
      "Model: SVC, Test Accuracy: 1.0\n",
      "\n",
      "Model: LogisticRegression, Test Accuracy: 1.0\n",
      "\n",
      "Model: KNeighborsClassifier, Test Accuracy: 1.0\n"
     ]
    }
   ],
   "source": [
    "resutlts  = ml.test(classifiers, X_test, y_test)"
   ]
  },
  {
   "cell_type": "markdown",
   "metadata": {},
   "source": [
    "#### Plotting the results"
   ]
  },
  {
   "cell_type": "code",
   "execution_count": null,
   "metadata": {},
   "outputs": [],
   "source": [
    "for clf_name in classifiers.keys():\n",
    "    clf = classifiers[clf_name]\n",
    "    sns.barplot()"
   ]
  }
 ],
 "metadata": {
  "kernelspec": {
   "display_name": "Python 3",
   "language": "python",
   "name": "python3"
  },
  "language_info": {
   "codemirror_mode": {
    "name": "ipython",
    "version": 3
   },
   "file_extension": ".py",
   "mimetype": "text/x-python",
   "name": "python",
   "nbconvert_exporter": "python",
   "pygments_lexer": "ipython3",
   "version": "3.6.12"
  }
 },
 "nbformat": 4,
 "nbformat_minor": 2
}
